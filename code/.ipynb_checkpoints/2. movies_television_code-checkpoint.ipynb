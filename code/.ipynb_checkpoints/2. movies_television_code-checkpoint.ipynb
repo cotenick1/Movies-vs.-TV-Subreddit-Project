{
 "cells": [
  {
   "cell_type": "markdown",
   "metadata": {
    "toc": true
   },
   "source": [
    "<h1>Table of Contents<span class=\"tocSkip\"></span></h1>\n",
    "<div class=\"toc\"><ul class=\"toc-item\"><li><span><a href=\"#1.--Import-Packages\" data-toc-modified-id=\"1.--Import-Packages-1\">1.  Import Packages</a></span></li><li><span><a href=\"#2.-Read-in-Data\" data-toc-modified-id=\"2.-Read-in-Data-2\">2. Read in Data</a></span></li><li><span><a href=\"#3.-Data-Frame-Cleaning\" data-toc-modified-id=\"3.-Data-Frame-Cleaning-3\">3. Data Frame Cleaning</a></span><ul class=\"toc-item\"><li><span><a href=\"#Frame-Cleaning\" data-toc-modified-id=\"Frame-Cleaning-3.1\">Frame Cleaning</a></span></li></ul></li></ul></div>"
   ]
  },
  {
   "cell_type": "markdown",
   "metadata": {},
   "source": [
    "# 1.  Import Packages"
   ]
  },
  {
   "cell_type": "code",
   "execution_count": 5,
   "metadata": {},
   "outputs": [
    {
     "name": "stderr",
     "output_type": "stream",
     "text": [
      "[nltk_data] Downloading package wordnet to\n",
      "[nltk_data]     /Users/nick_cote/nltk_data...\n",
      "[nltk_data]   Package wordnet is already up-to-date!\n",
      "[nltk_data] Downloading package stopwords to\n",
      "[nltk_data]     /Users/nick_cote/nltk_data...\n",
      "[nltk_data]   Unzipping corpora/stopwords.zip.\n"
     ]
    }
   ],
   "source": [
    "import pandas as pd\n",
    "import requests\n",
    "import time\n",
    "import nltk\n",
    "from nltk.stem import WordNetLemmatizer\n",
    "import nltk\n",
    "nltk.download('wordnet')\n",
    "nltk.download('stopwords')\n",
    "from nltk.tokenize import RegexpTokenizer\n",
    "import regex as re\n",
    "from nltk.stem.porter import PorterStemmer\n",
    "from sklearn.model_selection import train_test_split, GridSearchCV\n",
    "from bs4 import BeautifulSoup  \n",
    "from sklearn.feature_extraction.text import CountVectorizer, TfidfVectorizer\n",
    "from sklearn.linear_model import LogisticRegression\n",
    "from sklearn.pipeline import Pipeline\n",
    "from sklearn.feature_extraction import stop_words"
   ]
  },
  {
   "cell_type": "markdown",
   "metadata": {},
   "source": [
    "# 2. Read in Data"
   ]
  },
  {
   "cell_type": "code",
   "execution_count": 2,
   "metadata": {},
   "outputs": [],
   "source": [
    "data = pd.read_csv('../data/final_movies_data.csv')"
   ]
  },
  {
   "cell_type": "code",
   "execution_count": 3,
   "metadata": {
    "scrolled": true
   },
   "outputs": [
    {
     "data": {
      "text/html": [
       "<div>\n",
       "<style scoped>\n",
       "    .dataframe tbody tr th:only-of-type {\n",
       "        vertical-align: middle;\n",
       "    }\n",
       "\n",
       "    .dataframe tbody tr th {\n",
       "        vertical-align: top;\n",
       "    }\n",
       "\n",
       "    .dataframe thead th {\n",
       "        text-align: right;\n",
       "    }\n",
       "</style>\n",
       "<table border=\"1\" class=\"dataframe\">\n",
       "  <thead>\n",
       "    <tr style=\"text-align: right;\">\n",
       "      <th></th>\n",
       "      <th>Unnamed: 0</th>\n",
       "      <th>title</th>\n",
       "      <th>text</th>\n",
       "      <th>subreddit</th>\n",
       "      <th>all_text</th>\n",
       "      <th>is_movies</th>\n",
       "    </tr>\n",
       "  </thead>\n",
       "  <tbody>\n",
       "    <tr>\n",
       "      <td>0</td>\n",
       "      <td>0</td>\n",
       "      <td>We’re Jesse Eisenberg and Ruben Fleischer. ZOM...</td>\n",
       "      <td>Hi Reddit! Jesse Eisenberg and Ruben Fleischer...</td>\n",
       "      <td>movies</td>\n",
       "      <td>We’re Jesse Eisenberg and Ruben Fleischer. ZOM...</td>\n",
       "      <td>1</td>\n",
       "    </tr>\n",
       "    <tr>\n",
       "      <td>1</td>\n",
       "      <td>1</td>\n",
       "      <td>Elton John Says Disney's Lion King Remake Was ...</td>\n",
       "      <td>NaN</td>\n",
       "      <td>movies</td>\n",
       "      <td>Elton John Says Disney's Lion King Remake Was ...</td>\n",
       "      <td>1</td>\n",
       "    </tr>\n",
       "    <tr>\n",
       "      <td>2</td>\n",
       "      <td>2</td>\n",
       "      <td>Ryan Reynolds, John Krasinski Teaming Up for F...</td>\n",
       "      <td>NaN</td>\n",
       "      <td>movies</td>\n",
       "      <td>Ryan Reynolds, John Krasinski Teaming Up for F...</td>\n",
       "      <td>1</td>\n",
       "    </tr>\n",
       "    <tr>\n",
       "      <td>3</td>\n",
       "      <td>3</td>\n",
       "      <td>Netflix Sued For Libel &amp;amp; Trademark Infring...</td>\n",
       "      <td>NaN</td>\n",
       "      <td>movies</td>\n",
       "      <td>Netflix Sued For Libel &amp;amp; Trademark Infring...</td>\n",
       "      <td>1</td>\n",
       "    </tr>\n",
       "    <tr>\n",
       "      <td>4</td>\n",
       "      <td>4</td>\n",
       "      <td>‘Matrix 4’: Neil Patrick Harris Lands Role in ...</td>\n",
       "      <td>NaN</td>\n",
       "      <td>movies</td>\n",
       "      <td>‘Matrix 4’: Neil Patrick Harris Lands Role in ...</td>\n",
       "      <td>1</td>\n",
       "    </tr>\n",
       "  </tbody>\n",
       "</table>\n",
       "</div>"
      ],
      "text/plain": [
       "   Unnamed: 0                                              title  \\\n",
       "0           0  We’re Jesse Eisenberg and Ruben Fleischer. ZOM...   \n",
       "1           1  Elton John Says Disney's Lion King Remake Was ...   \n",
       "2           2  Ryan Reynolds, John Krasinski Teaming Up for F...   \n",
       "3           3  Netflix Sued For Libel &amp; Trademark Infring...   \n",
       "4           4  ‘Matrix 4’: Neil Patrick Harris Lands Role in ...   \n",
       "\n",
       "                                                text subreddit  \\\n",
       "0  Hi Reddit! Jesse Eisenberg and Ruben Fleischer...    movies   \n",
       "1                                                NaN    movies   \n",
       "2                                                NaN    movies   \n",
       "3                                                NaN    movies   \n",
       "4                                                NaN    movies   \n",
       "\n",
       "                                            all_text  is_movies  \n",
       "0  We’re Jesse Eisenberg and Ruben Fleischer. ZOM...          1  \n",
       "1  Elton John Says Disney's Lion King Remake Was ...          1  \n",
       "2  Ryan Reynolds, John Krasinski Teaming Up for F...          1  \n",
       "3  Netflix Sued For Libel &amp; Trademark Infring...          1  \n",
       "4  ‘Matrix 4’: Neil Patrick Harris Lands Role in ...          1  "
      ]
     },
     "execution_count": 3,
     "metadata": {},
     "output_type": "execute_result"
    }
   ],
   "source": [
    "data.head()"
   ]
  },
  {
   "cell_type": "code",
   "execution_count": 4,
   "metadata": {
    "scrolled": true
   },
   "outputs": [
    {
     "data": {
      "text/html": [
       "<div>\n",
       "<style scoped>\n",
       "    .dataframe tbody tr th:only-of-type {\n",
       "        vertical-align: middle;\n",
       "    }\n",
       "\n",
       "    .dataframe tbody tr th {\n",
       "        vertical-align: top;\n",
       "    }\n",
       "\n",
       "    .dataframe thead th {\n",
       "        text-align: right;\n",
       "    }\n",
       "</style>\n",
       "<table border=\"1\" class=\"dataframe\">\n",
       "  <thead>\n",
       "    <tr style=\"text-align: right;\">\n",
       "      <th></th>\n",
       "      <th>Unnamed: 0</th>\n",
       "      <th>title</th>\n",
       "      <th>text</th>\n",
       "      <th>subreddit</th>\n",
       "      <th>all_text</th>\n",
       "      <th>is_movies</th>\n",
       "    </tr>\n",
       "  </thead>\n",
       "  <tbody>\n",
       "    <tr>\n",
       "      <td>2445</td>\n",
       "      <td>2445</td>\n",
       "      <td>\"The Leftovers\" - 33 minutes if Max Richter's ...</td>\n",
       "      <td>NaN</td>\n",
       "      <td>television</td>\n",
       "      <td>\"The Leftovers\" - 33 minutes if Max Richter's ...</td>\n",
       "      <td>0</td>\n",
       "    </tr>\n",
       "    <tr>\n",
       "      <td>2446</td>\n",
       "      <td>2446</td>\n",
       "      <td>Love Island - SNL</td>\n",
       "      <td>NaN</td>\n",
       "      <td>television</td>\n",
       "      <td>Love Island - SNL</td>\n",
       "      <td>0</td>\n",
       "    </tr>\n",
       "    <tr>\n",
       "      <td>2447</td>\n",
       "      <td>2447</td>\n",
       "      <td>Netflix Animated Series ‘Big Mouth’ Is Under F...</td>\n",
       "      <td>NaN</td>\n",
       "      <td>television</td>\n",
       "      <td>Netflix Animated Series ‘Big Mouth’ Is Under F...</td>\n",
       "      <td>0</td>\n",
       "    </tr>\n",
       "    <tr>\n",
       "      <td>2448</td>\n",
       "      <td>2448</td>\n",
       "      <td>Two questions about the money tv makes off rat...</td>\n",
       "      <td>1.Why do shows that air in other countries but...</td>\n",
       "      <td>television</td>\n",
       "      <td>Two questions about the money tv makes off rat...</td>\n",
       "      <td>0</td>\n",
       "    </tr>\n",
       "    <tr>\n",
       "      <td>2449</td>\n",
       "      <td>2449</td>\n",
       "      <td>Is Jenny McCarthy the stupidest person on tele...</td>\n",
       "      <td>My wife and daughter love The Masked Singer, s...</td>\n",
       "      <td>television</td>\n",
       "      <td>Is Jenny McCarthy the stupidest person on tele...</td>\n",
       "      <td>0</td>\n",
       "    </tr>\n",
       "  </tbody>\n",
       "</table>\n",
       "</div>"
      ],
      "text/plain": [
       "      Unnamed: 0                                              title  \\\n",
       "2445        2445  \"The Leftovers\" - 33 minutes if Max Richter's ...   \n",
       "2446        2446                                  Love Island - SNL   \n",
       "2447        2447  Netflix Animated Series ‘Big Mouth’ Is Under F...   \n",
       "2448        2448  Two questions about the money tv makes off rat...   \n",
       "2449        2449  Is Jenny McCarthy the stupidest person on tele...   \n",
       "\n",
       "                                                   text   subreddit  \\\n",
       "2445                                                NaN  television   \n",
       "2446                                                NaN  television   \n",
       "2447                                                NaN  television   \n",
       "2448  1.Why do shows that air in other countries but...  television   \n",
       "2449  My wife and daughter love The Masked Singer, s...  television   \n",
       "\n",
       "                                               all_text  is_movies  \n",
       "2445  \"The Leftovers\" - 33 minutes if Max Richter's ...          0  \n",
       "2446                                 Love Island - SNL           0  \n",
       "2447  Netflix Animated Series ‘Big Mouth’ Is Under F...          0  \n",
       "2448  Two questions about the money tv makes off rat...          0  \n",
       "2449  Is Jenny McCarthy the stupidest person on tele...          0  "
      ]
     },
     "execution_count": 4,
     "metadata": {},
     "output_type": "execute_result"
    }
   ],
   "source": [
    "data.tail()"
   ]
  },
  {
   "cell_type": "markdown",
   "metadata": {},
   "source": [
    "# 3. Data Frame Cleaning"
   ]
  },
  {
   "cell_type": "markdown",
   "metadata": {},
   "source": [
    "## Frame Cleaning"
   ]
  },
  {
   "cell_type": "markdown",
   "metadata": {},
   "source": [
    "Before accounting for different words and symbols in the all text column, we want to clean the Unnamed: 0 column by dropping it and filling the null values.  Although the nulls are only in the text column that we may not use, it will still be appropriate to fill those with blanks in case we do end up deciding to use them."
   ]
  },
  {
   "cell_type": "code",
   "execution_count": 6,
   "metadata": {},
   "outputs": [],
   "source": [
    "# dropping unnamed 0 column\n",
    "data.drop(columns = 'Unnamed: 0', inplace = True)"
   ]
  },
  {
   "cell_type": "code",
   "execution_count": null,
   "metadata": {},
   "outputs": [],
   "source": [
    "# "
   ]
  }
 ],
 "metadata": {
  "kernelspec": {
   "display_name": "Python 3",
   "language": "python",
   "name": "python3"
  },
  "language_info": {
   "codemirror_mode": {
    "name": "ipython",
    "version": 3
   },
   "file_extension": ".py",
   "mimetype": "text/x-python",
   "name": "python",
   "nbconvert_exporter": "python",
   "pygments_lexer": "ipython3",
   "version": "3.7.3"
  },
  "toc": {
   "base_numbering": 1,
   "nav_menu": {
    "height": "68px",
    "width": "391px"
   },
   "number_sections": false,
   "sideBar": true,
   "skip_h1_title": false,
   "title_cell": "Table of Contents",
   "title_sidebar": "Contents",
   "toc_cell": true,
   "toc_position": {},
   "toc_section_display": true,
   "toc_window_display": true
  }
 },
 "nbformat": 4,
 "nbformat_minor": 2
}
